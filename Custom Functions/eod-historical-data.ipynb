{
 "cells": [
  {
   "cell_type": "markdown",
   "source": [
    "## Requirements"
   ],
   "metadata": {}
  },
  {
   "cell_type": "code",
   "execution_count": null,
   "source": [
    "import requests\r\n",
    "import pandas as pd\r\n",
    "import datetime\r\n",
    "import os\r\n",
    "import numpy as np"
   ],
   "outputs": [],
   "metadata": {}
  },
  {
   "cell_type": "code",
   "execution_count": null,
   "source": [
    "api_key = os.environ.get('EOD_Historical_Data_API_Key')"
   ],
   "outputs": [],
   "metadata": {}
  },
  {
   "cell_type": "markdown",
   "source": [
    "## ETL Functions"
   ],
   "metadata": {}
  },
  {
   "cell_type": "code",
   "execution_count": null,
   "source": [
    "def getDailyStockPrices(symbol: str, start_date: str, end_date: str = None):\r\n",
    "\r\n",
    "    #Set last date of dataset to today unless assigned during function call\r\n",
    "    if end_date is None:\r\n",
    "        end_date = datetime.datetime.now().strftime(\"%Y-%m-%d\")\r\n",
    "\r\n",
    "    # Validate Start & End Date \r\n",
    "    # Convert strings to datetime objects\r\n",
    "    start_date_dtObj = datetime.datetime.strptime(start_date, \"%Y-%m-%d\")\r\n",
    "    end_date_dtObj = datetime.datetime.strptime(end_date, \"%Y-%m-%d\")\r\n",
    "    # Validate\r\n",
    "    end_date = max(end_date_dtObj, start_date_dtObj)\r\n",
    "    start_date = min(end_date_dtObj, start_date_dtObj)\r\n",
    "\r\n",
    "    # API Request to return Pandas DataFrame\r\n",
    "    api_url = f'https://eodhistoricaldata.com/api/eod/{symbol}.US?from={start_date}&to={end_date}&api_token={api_key}&fmt=json'\r\n",
    "    data = requests.get(api_url).json()\r\n",
    "    df = pd.DataFrame(data)\r\n",
    "\r\n",
    "    # Add column to DataFrame containing Symbol\r\n",
    "    df.insert(loc = 0, column = 'symbol', value = symbol)\r\n",
    "\r\n",
    "    # Format date column as datetime, and set as DataFrame index\r\n",
    "    df['date'] = pd.to_datetime(df['date'])\r\n",
    "    df = df.set_index(\"date\", drop=False)\r\n",
    "\r\n",
    "    return df"
   ],
   "outputs": [],
   "metadata": {}
  }
 ],
 "metadata": {
  "orig_nbformat": 4,
  "language_info": {
   "name": "python"
  }
 },
 "nbformat": 4,
 "nbformat_minor": 2
}