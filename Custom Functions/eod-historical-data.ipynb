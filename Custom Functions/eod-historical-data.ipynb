{
 "cells": [
  {
   "cell_type": "markdown",
   "source": [
    "## Requirements"
   ],
   "metadata": {}
  },
  {
   "cell_type": "code",
   "execution_count": null,
   "source": [
    "import requests\r\n",
    "import pandas as pd\r\n",
    "import datetime\r\n",
    "import os\r\n",
    "import numpy as np"
   ],
   "outputs": [],
   "metadata": {}
  },
  {
   "cell_type": "code",
   "execution_count": null,
   "source": [
    "api_key = os.environ.get('EOD_Historical_Data_API_Key')"
   ],
   "outputs": [],
   "metadata": {}
  },
  {
   "cell_type": "markdown",
   "source": [
    "## ETL Functions"
   ],
   "metadata": {}
  },
  {
   "cell_type": "code",
   "execution_count": null,
   "source": [
    "def getDailyStockPrices(symbol: str, start_date: str, end_date: str = None):\r\n",
    "\r\n",
    "    #Set last date of dataset to today unless assigned during function call\r\n",
    "    if end_date is None:\r\n",
    "        end_date = datetime.datetime.now().strftime(\"%Y-%m-%d\")\r\n",
    "\r\n",
    "    # Validate Start & End Date \r\n",
    "    # Convert strings to datetime objects\r\n",
    "    start_date_dtObj = datetime.datetime.strptime(start_date, \"%Y-%m-%d\")\r\n",
    "    end_date_dtObj = datetime.datetime.strptime(end_date, \"%Y-%m-%d\")\r\n",
    "    # Validate\r\n",
    "    end_date = max(end_date_dtObj, start_date_dtObj)\r\n",
    "    start_date = min(end_date_dtObj, start_date_dtObj)\r\n",
    "\r\n",
    "    # API Request to return Pandas DataFrame\r\n",
    "    api_url = f'https://eodhistoricaldata.com/api/eod/{symbol}.US?from={start_date}&to={end_date}&api_token={api_key}&fmt=json'\r\n",
    "    data = requests.get(api_url).json()\r\n",
    "    df = pd.DataFrame(data)\r\n",
    "\r\n",
    "    # Add column to DataFrame containing Symbol\r\n",
    "    df.insert(loc = 0, column = 'symbol', value = symbol)\r\n",
    "\r\n",
    "    # Format date column as datetime, and set as DataFrame index\r\n",
    "    df['date'] = pd.to_datetime(df['date'])\r\n",
    "    df = df.set_index(\"date\", drop=False)\r\n",
    "\r\n",
    "    return df"
   ],
   "outputs": [],
   "metadata": {}
  },
  {
   "cell_type": "code",
   "execution_count": null,
   "source": [
    "def getIntradayStockPrices(symbol: str, interval: int = 2):\r\n",
    "\r\n",
    "    # API Request to return Pandas DataFrame\r\n",
    "    api_url = f'https://eodhistoricaldata.com/api/intraday/{symbol}.US?api_token={api_key}&interval=1m&fmt=json'\r\n",
    "    data = requests.get(api_url).json()\r\n",
    "    df = pd.DataFrame(data)\r\n",
    "\r\n",
    "    # Convert UNIX datetime from UTC to Eastern\r\n",
    "    unixUTC = pd.to_datetime(df['timestamp'], unit='s')\r\n",
    "    df['datetime_est'] = unixUTC.dt.tz_localize('UTC').dt.tz_convert('US/Eastern').dt.tz_localize(None)\r\n",
    "    \r\n",
    "    # Add column to DataFrame, in 1st position, containing truncated Date (EST)\r\n",
    "    df.insert(loc = 0, column = 'date_est', value = df['datetime_est'].dt.date)\r\n",
    "\r\n",
    "    # Define 'Trading Session' function **LOOK INTO VECTORIZING**\r\n",
    "    def tradingSession(time):\r\n",
    "        # Define 'Trading Session' variables\r\n",
    "        marketStart = datetime.time(9, 30, 0)\r\n",
    "        marketEnd = datetime.time(16, 0, 0) \r\n",
    "        # Define 'Trading Session' logic       \r\n",
    "        if time < marketStart:\r\n",
    "            return \"Pre-Market\"\r\n",
    "        elif time >= marketEnd:\r\n",
    "            return \"After Hours\"\r\n",
    "        else:\r\n",
    "            return \"Market\"\r\n",
    "\r\n",
    "    # Calculate 'Trading Session' for all data points\r\n",
    "    df['trading_session'] = df['datetime_est'].dt.time.apply(tradingSession)\r\n",
    "   \r\n",
    "    # Filter for Market hours\r\n",
    "    df = df[df['trading_session'] == 'Market']\r\n",
    "\r\n",
    "    # Define Interval Groups\r\n",
    "    position = df.columns.get_loc('datetime_est')\r\n",
    "    elapsed = df.iloc[0:, position] - df.iat[0, position]\r\n",
    "    minutes_elapsed = (elapsed.dt.seconds/60) + 1\r\n",
    "    df['interval_group'] = -(-minutes_elapsed // (390/interval)) # Upside-down floor division to convert floor to ceiling with negation. \r\n",
    "\r\n",
    "    # Aggregate Data using Interval Groups\r\n",
    "    agg_dict = {\r\n",
    "        'open': 'first',\r\n",
    "        'high': np.max,\r\n",
    "        'low': np.min,\r\n",
    "        'close': 'last',\r\n",
    "        'volume': np.sum\r\n",
    "    }\r\n",
    "    df = df.groupby(['date_est', 'interval_group']).agg(agg_dict).reset_index()\r\n",
    "\r\n",
    "    # Add column to DataFrame, in 1st position, containing Symbol\r\n",
    "    df.insert(loc = 0, column = 'symbol', value = symbol)\r\n",
    "\r\n",
    "    return df"
   ],
   "outputs": [],
   "metadata": {}
  }
 ],
 "metadata": {
  "orig_nbformat": 4,
  "language_info": {
   "name": "python"
  }
 },
 "nbformat": 4,
 "nbformat_minor": 2
}