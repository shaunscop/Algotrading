{
 "cells": [
  {
   "cell_type": "markdown",
   "metadata": {},
   "source": [
    "## Requirements"
   ]
  },
  {
   "cell_type": "code",
   "execution_count": 2,
   "metadata": {},
   "outputs": [],
   "source": [
    "import requests\n",
    "import pandas as pd\n",
    "import datetime\n",
    "import os\n",
    "import numpy as np\n",
    "api_key = os.environ.get('EOD_Historical_Data_API_Key')"
   ]
  },
  {
   "cell_type": "markdown",
   "metadata": {},
   "source": [
    "## ETL Functions"
   ]
  },
  {
   "cell_type": "code",
   "execution_count": 3,
   "metadata": {},
   "outputs": [],
   "source": [
    "def getDailyStockPrices(symbol: str, start_date: str, end_date: str = None):\n",
    "\n",
    "    #Set last date of dataset to today unless assigned during function call\n",
    "    if end_date is None:\n",
    "        end_date = datetime.datetime.now().strftime(\"%Y-%m-%d\")\n",
    "\n",
    "    # Validate Start & End Date \n",
    "    # Convert strings to datetime objects\n",
    "    start_date_dtObj = datetime.datetime.strptime(start_date, \"%Y-%m-%d\")\n",
    "    end_date_dtObj = datetime.datetime.strptime(end_date, \"%Y-%m-%d\")\n",
    "    # Validate\n",
    "    end_date = max(end_date_dtObj, start_date_dtObj)\n",
    "    start_date = min(end_date_dtObj, start_date_dtObj)\n",
    "\n",
    "    # API Request to return Pandas DataFrame\n",
    "    api_url = f'https://eodhistoricaldata.com/api/eod/{symbol}.US?from={start_date}&to={end_date}&api_token={api_key}&fmt=json'\n",
    "    data = requests.get(api_url).json()\n",
    "    df = pd.DataFrame(data)\n",
    "\n",
    "    # Add column to DataFrame containing Symbol\n",
    "    df.insert(loc = 0, column = 'symbol', value = symbol)\n",
    "\n",
    "    # Format date column as datetime, and set as DataFrame index\n",
    "    df['date'] = pd.to_datetime(df['date'])\n",
    "    df = df.set_index(\"date\", drop=False)\n",
    "\n",
    "    return df"
   ]
  },
  {
   "cell_type": "code",
   "execution_count": null,
   "metadata": {},
   "outputs": [],
   "source": [
    "def getIntradayStockPrices(symbol: str, interval: int = 2):\n",
    "\n",
    "    # API Request to return Pandas DataFrame\n",
    "    api_url = f'https://eodhistoricaldata.com/api/intraday/{symbol}.US?api_token={api_key}&interval=1m&fmt=json'\n",
    "    data = requests.get(api_url).json()\n",
    "    df = pd.DataFrame(data)\n",
    "\n",
    "    # Convert UNIX datetime from UTC to Eastern\n",
    "    unixUTC = pd.to_datetime(df['timestamp'], unit='s')\n",
    "    df['datetime_est'] = unixUTC.dt.tz_localize('UTC').dt.tz_convert('US/Eastern').dt.tz_localize(None)\n",
    "    \n",
    "    # Add column to DataFrame, in 1st position, containing truncated Date (EST)\n",
    "    df.insert(loc = 0, column = 'date_est', value = df['datetime_est'].dt.date)\n",
    "\n",
    "    # Define 'Trading Session' function **LOOK INTO VECTORIZING**\n",
    "    def tradingSession(time):\n",
    "        # Define 'Trading Session' variables\n",
    "        marketStart = datetime.time(9, 30, 0)\n",
    "        marketEnd = datetime.time(16, 0, 0) \n",
    "        # Define 'Trading Session' logic       \n",
    "        if time < marketStart:\n",
    "            return \"Pre-Market\"\n",
    "        elif time >= marketEnd:\n",
    "            return \"After Hours\"\n",
    "        else:\n",
    "            return \"Market\"\n",
    "\n",
    "    # Calculate 'Trading Session' for all data points\n",
    "    df['trading_session'] = df['datetime_est'].dt.time.apply(tradingSession)\n",
    "   \n",
    "    # Filter for Market hours\n",
    "    df = df[df['trading_session'] == 'Market']\n",
    "\n",
    "    # Define Interval Groups\n",
    "    position = df.columns.get_loc('datetime_est')\n",
    "    elapsed = df.iloc[0:, position] - df.iat[0, position]\n",
    "    minutes_elapsed = (elapsed.dt.seconds/60) + 1\n",
    "    df['interval_group'] = -(-minutes_elapsed // (390/interval)) # Upside-down floor division to convert floor to ceiling with negation. \n",
    "\n",
    "    # Aggregate Data using Interval Groups\n",
    "    agg_dict = {\n",
    "        'open': 'first',\n",
    "        'high': np.max,\n",
    "        'low': np.min,\n",
    "        'close': 'last',\n",
    "        'volume': np.sum\n",
    "    }\n",
    "    df = df.groupby(['date_est', 'interval_group']).agg(agg_dict).reset_index()\n",
    "\n",
    "    # Add column to DataFrame, in 1st position, containing Symbol\n",
    "    df.insert(loc = 0, column = 'symbol', value = symbol)\n",
    "\n",
    "    return df"
   ]
  },
  {
   "cell_type": "markdown",
   "metadata": {},
   "source": [
    "## Technical Indicators"
   ]
  },
  {
   "cell_type": "markdown",
   "metadata": {},
   "source": [
    "### Arnaud Legoux Moving Average\n",
    "Offset: You can set the offset in decimals between the level of 0 and 1. A setting of 0.99 makes the ALMA extremely responsive, while a value of 0.01 makes it very smooth.\n",
    "\n",
    "Sigma: A setting of 6 makes the filter rather large while a smaller sigma setting makes it more focused. According to Mr. Legoux, a sigma value of 6 is said to offer good performance."
   ]
  },
  {
   "cell_type": "code",
   "execution_count": null,
   "metadata": {},
   "outputs": [],
   "source": [
    "def alma(df, period: int, offset: float = 0.85, sigma: float = 6.0):\n",
    "\n",
    "    df = df[['adjusted_close']].values.ravel()\n",
    "\n",
    "    m = np.floor(offset * (period - 1))\n",
    "    s = period / sigma \n",
    "    alma = np.zeros(df.shape)\n",
    "    w_sum = np.zeros(df.shape)\n",
    "\n",
    "    for i in range(len(df)):\n",
    "        if i < period - 1:\n",
    "            alma[i] = np.nan\n",
    "        else:\n",
    "            for j in range(period):\n",
    "                w = np.exp(-(j-m)*(j-m)/(2*s*s))\n",
    "                alma[i] += df[i + 1 - period + j] * w\n",
    "                w_sum[i] += w\n",
    "            alma[i] = alma[i] / w_sum[i]\n",
    " \n",
    "    return alma"
   ]
  },
  {
   "cell_type": "code",
   "execution_count": null,
   "metadata": {},
   "outputs": [],
   "source": [
    "def rsi(df, periods: int = 14, ema = True):\n",
    "\n",
    "    close_delta = df['close'].diff()\n",
    "\n",
    "    # Make two series: one for lower closes and one for higher closes\n",
    "    up = close_delta.clip(lower=0)\n",
    "    down = -1 * close_delta.clip(upper=0)\n",
    "    \n",
    "    if ema:\n",
    "\t    # Use exponential moving average\n",
    "        ma_up = up.ewm(com = periods - 1, adjust=True, min_periods = periods).mean()\n",
    "        ma_down = down.ewm(com = periods - 1, adjust=True, min_periods = periods).mean()\n",
    "    else:\n",
    "        # Use simple moving average\n",
    "        ma_up = up.rolling(window = periods, adjust=False).mean()\n",
    "        ma_down = down.rolling(window = periods, adjust=False).mean()\n",
    "        \n",
    "    rs = ma_up / ma_down\n",
    "    rsi = 100 - (100/(1 + rs))\n",
    "\n",
    "    return rsi"
   ]
  },
  {
   "cell_type": "markdown",
   "metadata": {},
   "source": [
    "## Misc."
   ]
  },
  {
   "cell_type": "code",
   "execution_count": 1,
   "metadata": {},
   "outputs": [],
   "source": [
    "def sp500():\n",
    "\n",
    "    # Read file from Wiki\n",
    "    sp500 = pd.read_html('https://en.wikipedia.org/wiki/List_of_S%26P_500_companies')[0]\n",
    "\n",
    "    # Sort and reset index\n",
    "    sp500.sort_values(by='Symbol', inplace=True)\n",
    "    sp500.reset_index(drop=True, inplace=True)\n",
    "\n",
    "    # Convert to list\n",
    "    sp500 = sp500.Symbol.to_list()\n",
    "\n",
    "    #Convert Non-Class A Stocks to readable format\n",
    "    sp500 = [i.replace('.','-') for i in sp500]\n",
    "\n",
    "    return sp500"
   ]
  }
 ],
 "metadata": {
  "interpreter": {
   "hash": "1f23e7a4be69fe68ef5b7dddf2a6fcce310e5afb496bdf0fadddae054551b389"
  },
  "kernelspec": {
   "display_name": "Python 3.9.6 64-bit",
   "name": "python3"
  },
  "language_info": {
   "codemirror_mode": {
    "name": "ipython",
    "version": 3
   },
   "file_extension": ".py",
   "mimetype": "text/x-python",
   "name": "python",
   "nbconvert_exporter": "python",
   "pygments_lexer": "ipython3",
   "version": "3.9.6"
  },
  "orig_nbformat": 4
 },
 "nbformat": 4,
 "nbformat_minor": 2
}
